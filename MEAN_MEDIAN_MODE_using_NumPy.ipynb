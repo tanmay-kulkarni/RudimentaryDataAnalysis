{
 "cells": [
  {
   "cell_type": "markdown",
   "metadata": {},
   "source": [
    "### MEAN, MEDIAN, MODE using NumPy"
   ]
  },
  {
   "cell_type": "markdown",
   "metadata": {},
   "source": [
    "**For the purpose of this exercise, I'll create some random data with characteristics that I require.**\n",
    "\n",
    "Let me create some data about incomes, which is having a mean of 30,000 and a standard deviation of 15,000 having 10,000 data points."
   ]
  },
  {
   "cell_type": "code",
   "execution_count": 1,
   "metadata": {
    "collapsed": true
   },
   "outputs": [],
   "source": [
    "import numpy as np\n",
    "incomes=np.random.normal(30000,15000,10000)"
   ]
  },
  {
   "cell_type": "markdown",
   "metadata": {},
   "source": [
    "If we calculate the mean of *incomes*, it should be close to 30000 because that's the way we defined our random data."
   ]
  },
  {
   "cell_type": "code",
   "execution_count": 2,
   "metadata": {},
   "outputs": [
    {
     "data": {
      "text/plain": [
       "29987.89504700519"
      ]
     },
     "execution_count": 2,
     "metadata": {},
     "output_type": "execute_result"
    }
   ],
   "source": [
    "incomes.mean()"
   ]
  },
  {
   "cell_type": "markdown",
   "metadata": {},
   "source": [
    "No surprises there. Just as I expected. Now let me segment this data into buckets and plot it as a Histogram."
   ]
  },
  {
   "cell_type": "code",
   "execution_count": 3,
   "metadata": {},
   "outputs": [
    {
     "data": {
      "image/png": "[encoded data removed]",
      "text/plain": [
       "<matplotlib.figure.Figure at 0x7f4e38144cf8>"
      ]
     },
     "metadata": {},
     "output_type": "display_data"
    }
   ],
   "source": [
    "%matplotlib inline\n",
    "import matplotlib.pyplot as plt\n",
    "plt.hist(incomes,50)\n",
    "plt.show()"
   ]
  },
  {
   "cell_type": "markdown",
   "metadata": {},
   "source": [
    "Now, let me compute the median of this data distribution. Since my distribution is even, I should get a median which is close to my mean (30,000)."
   ]
  },
  {
   "cell_type": "code",
   "execution_count": 7,
   "metadata": {},
   "outputs": [
    {
     "data": {
      "text/plain": [
       "29748.587914172815"
      ]
     },
     "execution_count": 7,
     "metadata": {},
     "output_type": "execute_result"
    }
   ],
   "source": [
    "np.median(incomes)"
   ]
  },
  {
   "cell_type": "markdown",
   "metadata": {},
   "source": [
    "Cool. Now in order to see how the mean can be skewed even if there is 1 abnormal value in the data, consider this :"
   ]
  },
  {
   "cell_type": "code",
   "execution_count": 13,
   "metadata": {},
   "outputs": [
    {
     "data": {
      "text/plain": [
       "29755.50833075737"
      ]
     },
     "execution_count": 13,
     "metadata": {},
     "output_type": "execute_result"
    }
   ],
   "source": [
    "incomes=np.append(incomes,[10000000000])\n",
    "np.median(incomes)"
   ]
  },
  {
   "cell_type": "code",
   "execution_count": 14,
   "metadata": {},
   "outputs": [
    {
     "data": {
      "text/plain": [
       "1429273.2584177961"
      ]
     },
     "execution_count": 14,
     "metadata": {},
     "output_type": "execute_result"
    }
   ],
   "source": [
    "np.mean(incomes)"
   ]
  },
  {
   "cell_type": "markdown",
   "metadata": {},
   "source": [
    "Notice what happened there? The median remained relatively unchanged. But the mean changed by a lot! In fact the mean income of a person increased by almost $120,000! So the point is - mean does not always give you the most accurate representation of your data. \n",
    "\n",
    "Now let me quickly calculate mode. For seeing mode clearly, let me generate another piece of random data."
   ]
  },
  {
   "cell_type": "code",
   "execution_count": 16,
   "metadata": {},
   "outputs": [],
   "source": [
    "ages=np.random.randint(low=18,high=70,size=1000)"
   ]
  },
  {
   "cell_type": "markdown",
   "metadata": {},
   "source": [
    "This generated 1000 random ages with highest being 70 and lowest 18. "
   ]
  },
  {
   "cell_type": "code",
   "execution_count": 17,
   "metadata": {},
   "outputs": [
    {
     "data": {
      "text/plain": [
       "array([33, 32, 33, 59, 62, 65, 37, 26, 42, 32, 23, 67, 56, 43, 52, 39, 43,\n",
       "       34, 49, 67, 39, 40, 68, 55, 57, 37, 67, 42, 21, 57, 22, 21, 48, 45,\n",
       "       55, 24, 27, 28, 64, 25, 25, 19, 31, 27, 59, 60, 61, 48, 44, 53, 19,\n",
       "       42, 67, 39, 62, 36, 19, 52, 19, 40, 59, 53, 28, 58, 64, 60, 48, 56,\n",
       "       53, 38, 45, 48, 43, 61, 62, 69, 28, 59, 31, 43, 34, 19, 24, 26, 39,\n",
       "       54, 65, 51, 60, 46, 19, 44, 18, 21, 41, 59, 25, 34, 55, 34, 31, 23,\n",
       "       32, 37, 31, 36, 28, 42, 58, 67, 34, 68, 50, 41, 59, 65, 33, 57, 61,\n",
       "       34, 46, 34, 51, 47, 47, 46, 19, 32, 45, 58, 36, 46, 44, 63, 67, 68,\n",
       "       63, 46, 21, 27, 56, 45, 67, 47, 68, 33, 42, 30, 64, 29, 66, 44, 44,\n",
       "       66, 41, 56, 20, 40, 64, 37, 63, 21, 55, 60, 48, 64, 25, 33, 36, 60,\n",
       "       19, 24, 46, 56, 18, 29, 58, 31, 54, 20, 51, 69, 48, 22, 52, 67, 44,\n",
       "       52, 30, 21, 66, 41, 18, 46, 58, 65, 59, 43, 32, 18, 38, 37, 23, 64,\n",
       "       48, 66, 19, 34, 20, 67, 51, 23, 25, 56, 22, 61, 32, 26, 61, 54, 23,\n",
       "       40, 66, 42, 21, 40, 49, 50, 39, 61, 59, 37, 42, 58, 39, 58, 34, 57,\n",
       "       48, 64, 19, 44, 19, 65, 26, 47, 48, 61, 52, 25, 20, 50, 25, 33, 64,\n",
       "       44, 68, 35, 34, 54, 36, 23, 21, 18, 51, 27, 18, 59, 51, 67, 65, 59,\n",
       "       66, 53, 55, 51, 19, 63, 32, 34, 59, 65, 64, 40, 62, 60, 65, 18, 34,\n",
       "       56, 56, 63, 61, 32, 57, 57, 34, 20, 41, 52, 54, 52, 36, 34, 20, 36,\n",
       "       33, 58, 68, 44, 66, 19, 27, 21, 22, 64, 20, 55, 28, 28, 65, 53, 66,\n",
       "       26, 60, 20, 35, 37, 35, 32, 51, 27, 54, 57, 44, 54, 37, 69, 54, 45,\n",
       "       66, 22, 44, 39, 24, 32, 30, 35, 68, 68, 18, 29, 29, 21, 52, 28, 68,\n",
       "       66, 46, 27, 67, 22, 37, 52, 20, 19, 59, 34, 50, 27, 51, 28, 42, 38,\n",
       "       21, 40, 31, 42, 50, 19, 32, 36, 18, 64, 39, 67, 68, 32, 23, 26, 49,\n",
       "       23, 20, 40, 51, 62, 55, 64, 23, 65, 60, 24, 24, 44, 37, 24, 65, 31,\n",
       "       49, 26, 33, 25, 55, 48, 48, 68, 57, 26, 65, 28, 67, 57, 35, 68, 63,\n",
       "       23, 47, 68, 53, 56, 59, 22, 50, 52, 58, 59, 58, 31, 27, 56, 58, 41,\n",
       "       66, 29, 50, 19, 27, 31, 59, 57, 49, 46, 41, 22, 36, 35, 43, 57, 22,\n",
       "       38, 67, 34, 45, 29, 24, 46, 51, 41, 30, 64, 69, 69, 42, 23, 26, 31,\n",
       "       32, 37, 69, 30, 42, 68, 19, 22, 46, 29, 32, 20, 43, 66, 61, 52, 49,\n",
       "       40, 24, 37, 33, 47, 59, 43, 49, 56, 36, 50, 62, 64, 27, 51, 40, 46,\n",
       "       63, 69, 69, 59, 34, 48, 27, 23, 46, 19, 27, 31, 48, 40, 40, 46, 45,\n",
       "       48, 19, 30, 60, 59, 48, 26, 59, 31, 24, 63, 50, 27, 51, 43, 42, 34,\n",
       "       42, 50, 43, 57, 65, 67, 42, 20, 20, 61, 62, 20, 66, 39, 52, 31, 59,\n",
       "       19, 26, 69, 47, 55, 55, 37, 54, 49, 24, 21, 60, 38, 33, 53, 64, 28,\n",
       "       48, 69, 48, 52, 59, 57, 38, 62, 55, 28, 18, 55, 66, 43, 52, 19, 43,\n",
       "       24, 41, 28, 62, 23, 52, 24, 54, 56, 65, 41, 28, 31, 45, 37, 31, 37,\n",
       "       56, 69, 57, 27, 37, 38, 58, 65, 48, 24, 27, 20, 51, 29, 54, 45, 27,\n",
       "       40, 24, 23, 26, 18, 33, 58, 52, 52, 40, 60, 30, 41, 51, 19, 35, 62,\n",
       "       44, 29, 54, 67, 45, 39, 24, 54, 61, 61, 26, 64, 51, 52, 22, 31, 55,\n",
       "       33, 39, 55, 66, 26, 64, 66, 63, 36, 50, 58, 29, 51, 46, 54, 36, 40,\n",
       "       40, 26, 57, 56, 24, 57, 37, 60, 31, 68, 32, 56, 22, 33, 46, 56, 48,\n",
       "       36, 35, 56, 58, 40, 59, 22, 41, 53, 31, 42, 50, 66, 67, 33, 27, 53,\n",
       "       69, 36, 48, 51, 61, 33, 45, 33, 19, 61, 55, 68, 20, 33, 28, 29, 24,\n",
       "       48, 19, 45, 63, 18, 52, 69, 64, 42, 55, 43, 35, 23, 62, 53, 26, 44,\n",
       "       51, 23, 66, 35, 64, 28, 69, 29, 19, 58, 67, 26, 29, 21, 61, 35, 52,\n",
       "       21, 26, 55, 58, 32, 68, 47, 47, 23, 47, 61, 34, 58, 44, 67, 40, 22,\n",
       "       58, 55, 68, 44, 47, 45, 22, 47, 57, 28, 53, 28, 36, 25, 28, 50, 47,\n",
       "       32, 21, 24, 69, 41, 68, 29, 25, 43, 67, 42, 33, 41, 44, 63, 35, 54,\n",
       "       32, 62, 45, 46, 24, 20, 36, 56, 46, 52, 21, 49, 64, 39, 25, 48, 29,\n",
       "       40, 50, 60, 49, 41, 54, 50, 27, 19, 45, 44, 20, 57, 48, 42, 47, 67,\n",
       "       20, 39, 22, 37, 44, 43, 39, 25, 20, 20, 50, 30, 56, 45, 47, 67, 22,\n",
       "       54, 20, 56, 47, 51, 48, 18, 49, 31, 67, 49, 58, 50, 35, 47, 23, 65,\n",
       "       61, 38, 41, 63, 44, 49, 24, 18, 22, 68, 56, 69, 33, 32, 63, 31, 21,\n",
       "       25, 45, 23, 32, 48, 67, 47, 48, 44, 68, 57, 61, 52, 45, 49, 42, 38,\n",
       "       54, 66, 25, 18, 49, 47, 41, 38, 55, 33, 27, 47, 41, 49, 38, 34, 41,\n",
       "       19, 63, 53, 68, 32, 54, 65, 33, 27, 35, 22, 22, 61, 51, 48, 68, 29,\n",
       "       50, 40, 65, 58, 50, 47, 42, 45, 53, 52, 30, 21, 25, 46, 52, 66, 47,\n",
       "       55, 58, 47, 67, 39, 34, 62, 54, 19, 54, 24, 69, 66, 55, 53, 35, 52,\n",
       "       65, 62, 37, 34, 37, 18, 47, 21, 27, 36, 33, 66, 35, 57])"
      ]
     },
     "execution_count": 17,
     "metadata": {},
     "output_type": "execute_result"
    }
   ],
   "source": [
    "ages"
   ]
  },
  {
   "cell_type": "code",
   "execution_count": 18,
   "metadata": {},
   "outputs": [
    {
     "data": {
      "text/plain": [
       "ModeResult(mode=array([19]), count=array([28]))"
      ]
     },
     "execution_count": 18,
     "metadata": {},
     "output_type": "execute_result"
    }
   ],
   "source": [
    "from scipy import stats\n",
    "stats.mode(ages)"
   ]
  },
  {
   "cell_type": "markdown",
   "metadata": {},
   "source": [
    "The mode of the above data is 19 and this value appears 28 times."
   ]
  }
 ],
 "metadata": {
  "kernelspec": {
   "display_name": "Python 3",
   "language": "python",
   "name": "python3"
  },
  "language_info": {
   "codemirror_mode": {
    "name": "ipython",
    "version": 3
   },
   "file_extension": ".py",
   "mimetype": "text/x-python",
   "name": "python",
   "nbconvert_exporter": "python",
   "pygments_lexer": "ipython3",
   "version": "3.6.2"
  }
 },
 "nbformat": 4,
 "nbformat_minor": 2
}
